{
  "nbformat": 4,
  "nbformat_minor": 0,
  "metadata": {
    "kernelspec": {
      "display_name": "Python 3",
      "language": "python",
      "name": "python3"
    },
    "language_info": {
      "codemirror_mode": {
        "name": "ipython",
        "version": 3
      },
      "file_extension": ".py",
      "mimetype": "text/x-python",
      "name": "python",
      "nbconvert_exporter": "python",
      "pygments_lexer": "ipython3",
      "version": "3.6.8"
    },
    "colab": {
      "name": "Churn Prediction Solution.ipynb",
      "provenance": [],
      "collapsed_sections": [
        "vYHE2v1MAHiW",
        "s8wY9LayAHim"
      ],
      "include_colab_link": true
    }
  },
  "cells": [
    {
      "cell_type": "markdown",
      "metadata": {
        "id": "view-in-github",
        "colab_type": "text"
      },
      "source": [
        "<a href=\"https://colab.research.google.com/github/DeveloperSubham/Internshala_MachineLearning_FinalProject/blob/master/Churn_Prediction_Solution.ipynb\" target=\"_parent\"><img src=\"https://colab.research.google.com/assets/colab-badge.svg\" alt=\"Open In Colab\"/></a>"
      ]
    },
    {
      "cell_type": "markdown",
      "metadata": {
        "id": "IBZI5Yl_AHg4"
      },
      "source": [
        "## Churn Prediction using Logisitic Regression"
      ]
    },
    {
      "cell_type": "markdown",
      "metadata": {
        "id": "zlW_B0ODAHg6"
      },
      "source": [
        "## Data Dictionary\n",
        "\n",
        "There are multiple variables in the dataset which can be cleanly divided in 3 categories:\n",
        "\n",
        "### Demographic information about customers\n",
        "\n",
        "<b>customer_id</b> - Customer id\n",
        "\n",
        "<b>vintage</b> - Vintage of the customer with the bank in number of days\n",
        "\n",
        "<b>age</b> - Age of customer\n",
        "\n",
        "<b>gender</b> - Gender of customer\n",
        "\n",
        "<b>dependents</b> - Number of dependents\n",
        "\n",
        "<b>occupation</b> - Occupation of the customer \n",
        "\n",
        "<b>city</b> - City of customer (anonymised)\n",
        "\n",
        "\n",
        "### Customer Bank Relationship\n",
        "\n",
        "\n",
        "<b>customer_nw_category</b> - Net worth of customer (3:Low 2:Medium 1:High)\n",
        "\n",
        "<b>branch_code</b> - Branch Code for customer account\n",
        "\n",
        "<b>days_since_last_transaction</b> - No of Days Since Last Credit in Last 1 year\n",
        "\n",
        "\n",
        "### Transactional Information\n",
        "\n",
        "<b>current_balance</b> - Balance as of today\n",
        "\n",
        "<b>previous_month_end_balance</b> - End of Month Balance of previous month\n",
        "\n",
        "\n",
        "<b>average_monthly_balance_prevQ</b> - Average monthly balances (AMB) in Previous Quarter\n",
        "\n",
        "<b>average_monthly_balance_prevQ2</b> - Average monthly balances (AMB) in previous to previous quarter\n",
        "\n",
        "<b>current_month_credit</b> - Total Credit Amount current month\n",
        "\n",
        "<b>previous_month_credit</b> - Total Credit Amount previous month\n",
        "\n",
        "<b>current_month_debit</b> - Total Debit Amount current month\n",
        "\n",
        "<b>previous_month_debit</b> - Total Debit Amount previous month\n",
        "\n",
        "<b>current_month_balance</b> - Average Balance of current month\n",
        "\n",
        "<b>previous_month_balance</b> - Average Balance of previous month\n",
        "\n",
        "<b>churn</b> - Average balance of customer falls below minimum balance in the next quarter (1/0)"
      ]
    },
    {
      "cell_type": "markdown",
      "metadata": {
        "id": "0g1_i8xHAHg7"
      },
      "source": [
        "## Churn Prediction\n",
        "\n",
        "\n",
        "* Load Data & Packages for model building & preprocessing\n",
        "* Preprocessing & Missing value imputation\n",
        "* Select features on the basis of EDA Conclusions & build baseline model\n",
        "* Decide Evaluation Metric on the basis of business problem\n",
        "* Build model using all features & compare with baseline"
      ]
    },
    {
      "cell_type": "markdown",
      "metadata": {
        "id": "5n7U0orUAHg9"
      },
      "source": [
        "### Loading Packages"
      ]
    },
    {
      "cell_type": "code",
      "metadata": {
        "id": "9O1XcMCVAHg-"
      },
      "source": [
        "import numpy as np\n",
        "import pandas as pd\n",
        "import seaborn as sns\n",
        "import matplotlib.pyplot as plt\n",
        "%matplotlib inline\n",
        "from sklearn.preprocessing import LabelEncoder\n",
        "from sklearn.preprocessing import StandardScaler\n",
        "from sklearn.linear_model import LogisticRegression\n",
        "from sklearn.model_selection import KFold, StratifiedKFold, train_test_split\n",
        "from sklearn.metrics import roc_auc_score, accuracy_score, confusion_matrix, roc_curve, precision_score, recall_score, precision_recall_curve\n",
        "import warnings\n",
        "warnings.simplefilter(action='ignore', category=FutureWarning)\n",
        "warnings.simplefilter(action='ignore', category=UserWarning)"
      ],
      "execution_count": 264,
      "outputs": []
    },
    {
      "cell_type": "markdown",
      "metadata": {
        "id": "zjk1t6o6AHhJ"
      },
      "source": [
        "### Loading Data"
      ]
    },
    {
      "cell_type": "code",
      "metadata": {
        "id": "8DIQs-VMAHhL",
        "outputId": "17676f47-a172-4e42-9a05-b60d9edbfa44",
        "colab": {
          "resources": {
            "http://localhost:8080/nbextensions/google.colab/files.js": {
              "data": "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",
              "ok": true,
              "headers": [
                [
                  "content-type",
                  "application/javascript"
                ]
              ],
              "status": 200,
              "status_text": ""
            }
          },
          "base_uri": "https://localhost:8080/",
          "height": 73
        }
      },
      "source": [
        "from google.colab import files\n",
        "uploaded = files.upload()"
      ],
      "execution_count": null,
      "outputs": [
        {
          "output_type": "display_data",
          "data": {
            "text/html": [
              "\n",
              "     <input type=\"file\" id=\"files-a9182405-78da-4ce1-9506-4c3a462e4d9e\" name=\"files[]\" multiple disabled\n",
              "        style=\"border:none\" />\n",
              "     <output id=\"result-a9182405-78da-4ce1-9506-4c3a462e4d9e\">\n",
              "      Upload widget is only available when the cell has been executed in the\n",
              "      current browser session. Please rerun this cell to enable.\n",
              "      </output>\n",
              "      <script src=\"/nbextensions/google.colab/files.js\"></script> "
            ],
            "text/plain": [
              "<IPython.core.display.HTML object>"
            ]
          },
          "metadata": {
            "tags": []
          }
        },
        {
          "output_type": "stream",
          "text": [
            "Saving churn_prediction.csv to churn_prediction (2).csv\n"
          ],
          "name": "stdout"
        }
      ]
    },
    {
      "cell_type": "code",
      "metadata": {
        "id": "KK0JX5g4E1Ub"
      },
      "source": [
        "#Loading and Reading the Dataset\n",
        "\n",
        "import io\n",
        "df=pd.read_csv(io.BytesIO(uploaded['churn_prediction.csv']))"
      ],
      "execution_count": 265,
      "outputs": []
    },
    {
      "cell_type": "code",
      "metadata": {
        "id": "vyxwLFEJFyVd",
        "outputId": "426baff2-0f59-48f3-849d-52e8d8ae65e4",
        "colab": {
          "base_uri": "https://localhost:8080/"
        }
      },
      "source": [
        "df.shape"
      ],
      "execution_count": 266,
      "outputs": [
        {
          "output_type": "execute_result",
          "data": {
            "text/plain": [
              "(28382, 21)"
            ]
          },
          "metadata": {
            "tags": []
          },
          "execution_count": 266
        }
      ]
    },
    {
      "cell_type": "markdown",
      "metadata": {
        "id": "z6v7dQ6FMf9w"
      },
      "source": [
        "**The df has 28382 rows with 21 attributes. We review this further to identify what attributes will be necessary and what data manipulation needs to be carried out before Exploratory analysis and prediction modelling.**"
      ]
    },
    {
      "cell_type": "code",
      "metadata": {
        "id": "ldgQuydMF4H5",
        "outputId": "3ff518b8-9712-43eb-b16e-d777fe70e6c2",
        "colab": {
          "base_uri": "https://localhost:8080/",
          "height": 215
        }
      },
      "source": [
        "df.head()"
      ],
      "execution_count": 267,
      "outputs": [
        {
          "output_type": "execute_result",
          "data": {
            "text/html": [
              "<div>\n",
              "<style scoped>\n",
              "    .dataframe tbody tr th:only-of-type {\n",
              "        vertical-align: middle;\n",
              "    }\n",
              "\n",
              "    .dataframe tbody tr th {\n",
              "        vertical-align: top;\n",
              "    }\n",
              "\n",
              "    .dataframe thead th {\n",
              "        text-align: right;\n",
              "    }\n",
              "</style>\n",
              "<table border=\"1\" class=\"dataframe\">\n",
              "  <thead>\n",
              "    <tr style=\"text-align: right;\">\n",
              "      <th></th>\n",
              "      <th>customer_id</th>\n",
              "      <th>vintage</th>\n",
              "      <th>age</th>\n",
              "      <th>gender</th>\n",
              "      <th>dependents</th>\n",
              "      <th>occupation</th>\n",
              "      <th>city</th>\n",
              "      <th>customer_nw_category</th>\n",
              "      <th>branch_code</th>\n",
              "      <th>days_since_last_transaction</th>\n",
              "      <th>current_balance</th>\n",
              "      <th>previous_month_end_balance</th>\n",
              "      <th>average_monthly_balance_prevQ</th>\n",
              "      <th>average_monthly_balance_prevQ2</th>\n",
              "      <th>current_month_credit</th>\n",
              "      <th>previous_month_credit</th>\n",
              "      <th>current_month_debit</th>\n",
              "      <th>previous_month_debit</th>\n",
              "      <th>current_month_balance</th>\n",
              "      <th>previous_month_balance</th>\n",
              "      <th>churn</th>\n",
              "    </tr>\n",
              "  </thead>\n",
              "  <tbody>\n",
              "    <tr>\n",
              "      <th>0</th>\n",
              "      <td>1</td>\n",
              "      <td>3135</td>\n",
              "      <td>66</td>\n",
              "      <td>Male</td>\n",
              "      <td>0.0</td>\n",
              "      <td>self_employed</td>\n",
              "      <td>187.0</td>\n",
              "      <td>2</td>\n",
              "      <td>755</td>\n",
              "      <td>224.0</td>\n",
              "      <td>1458.71</td>\n",
              "      <td>1458.71</td>\n",
              "      <td>1458.71</td>\n",
              "      <td>1449.07</td>\n",
              "      <td>0.20</td>\n",
              "      <td>0.20</td>\n",
              "      <td>0.20</td>\n",
              "      <td>0.20</td>\n",
              "      <td>1458.71</td>\n",
              "      <td>1458.71</td>\n",
              "      <td>0</td>\n",
              "    </tr>\n",
              "    <tr>\n",
              "      <th>1</th>\n",
              "      <td>2</td>\n",
              "      <td>310</td>\n",
              "      <td>35</td>\n",
              "      <td>Male</td>\n",
              "      <td>0.0</td>\n",
              "      <td>self_employed</td>\n",
              "      <td>NaN</td>\n",
              "      <td>2</td>\n",
              "      <td>3214</td>\n",
              "      <td>60.0</td>\n",
              "      <td>5390.37</td>\n",
              "      <td>8704.66</td>\n",
              "      <td>7799.26</td>\n",
              "      <td>12419.41</td>\n",
              "      <td>0.56</td>\n",
              "      <td>0.56</td>\n",
              "      <td>5486.27</td>\n",
              "      <td>100.56</td>\n",
              "      <td>6496.78</td>\n",
              "      <td>8787.61</td>\n",
              "      <td>0</td>\n",
              "    </tr>\n",
              "    <tr>\n",
              "      <th>2</th>\n",
              "      <td>4</td>\n",
              "      <td>2356</td>\n",
              "      <td>31</td>\n",
              "      <td>Male</td>\n",
              "      <td>0.0</td>\n",
              "      <td>salaried</td>\n",
              "      <td>146.0</td>\n",
              "      <td>2</td>\n",
              "      <td>41</td>\n",
              "      <td>NaN</td>\n",
              "      <td>3913.16</td>\n",
              "      <td>5815.29</td>\n",
              "      <td>4910.17</td>\n",
              "      <td>2815.94</td>\n",
              "      <td>0.61</td>\n",
              "      <td>0.61</td>\n",
              "      <td>6046.73</td>\n",
              "      <td>259.23</td>\n",
              "      <td>5006.28</td>\n",
              "      <td>5070.14</td>\n",
              "      <td>0</td>\n",
              "    </tr>\n",
              "    <tr>\n",
              "      <th>3</th>\n",
              "      <td>5</td>\n",
              "      <td>478</td>\n",
              "      <td>90</td>\n",
              "      <td>NaN</td>\n",
              "      <td>NaN</td>\n",
              "      <td>self_employed</td>\n",
              "      <td>1020.0</td>\n",
              "      <td>2</td>\n",
              "      <td>582</td>\n",
              "      <td>147.0</td>\n",
              "      <td>2291.91</td>\n",
              "      <td>2291.91</td>\n",
              "      <td>2084.54</td>\n",
              "      <td>1006.54</td>\n",
              "      <td>0.47</td>\n",
              "      <td>0.47</td>\n",
              "      <td>0.47</td>\n",
              "      <td>2143.33</td>\n",
              "      <td>2291.91</td>\n",
              "      <td>1669.79</td>\n",
              "      <td>1</td>\n",
              "    </tr>\n",
              "    <tr>\n",
              "      <th>4</th>\n",
              "      <td>6</td>\n",
              "      <td>2531</td>\n",
              "      <td>42</td>\n",
              "      <td>Male</td>\n",
              "      <td>2.0</td>\n",
              "      <td>self_employed</td>\n",
              "      <td>1494.0</td>\n",
              "      <td>3</td>\n",
              "      <td>388</td>\n",
              "      <td>58.0</td>\n",
              "      <td>927.72</td>\n",
              "      <td>1401.72</td>\n",
              "      <td>1643.31</td>\n",
              "      <td>1871.12</td>\n",
              "      <td>0.33</td>\n",
              "      <td>714.61</td>\n",
              "      <td>588.62</td>\n",
              "      <td>1538.06</td>\n",
              "      <td>1157.15</td>\n",
              "      <td>1677.16</td>\n",
              "      <td>1</td>\n",
              "    </tr>\n",
              "  </tbody>\n",
              "</table>\n",
              "</div>"
            ],
            "text/plain": [
              "   customer_id  vintage  ...  previous_month_balance churn\n",
              "0            1     3135  ...                 1458.71     0\n",
              "1            2      310  ...                 8787.61     0\n",
              "2            4     2356  ...                 5070.14     0\n",
              "3            5      478  ...                 1669.79     1\n",
              "4            6     2531  ...                 1677.16     1\n",
              "\n",
              "[5 rows x 21 columns]"
            ]
          },
          "metadata": {
            "tags": []
          },
          "execution_count": 267
        }
      ]
    },
    {
      "cell_type": "code",
      "metadata": {
        "id": "Vcx_ORRvF7N_",
        "outputId": "f23fcaa2-4196-4cd4-f58e-84fa56cefbd5",
        "colab": {
          "base_uri": "https://localhost:8080/"
        }
      },
      "source": [
        "df.columns"
      ],
      "execution_count": 268,
      "outputs": [
        {
          "output_type": "execute_result",
          "data": {
            "text/plain": [
              "Index(['customer_id', 'vintage', 'age', 'gender', 'dependents', 'occupation',\n",
              "       'city', 'customer_nw_category', 'branch_code',\n",
              "       'days_since_last_transaction', 'current_balance',\n",
              "       'previous_month_end_balance', 'average_monthly_balance_prevQ',\n",
              "       'average_monthly_balance_prevQ2', 'current_month_credit',\n",
              "       'previous_month_credit', 'current_month_debit', 'previous_month_debit',\n",
              "       'current_month_balance', 'previous_month_balance', 'churn'],\n",
              "      dtype='object')"
            ]
          },
          "metadata": {
            "tags": []
          },
          "execution_count": 268
        }
      ]
    },
    {
      "cell_type": "code",
      "metadata": {
        "id": "9cBfpi1uGDpm",
        "outputId": "9b9472c3-5fd4-4c18-9b47-603ed2cf62ed",
        "colab": {
          "base_uri": "https://localhost:8080/",
          "height": 304
        }
      },
      "source": [
        "df.describe()"
      ],
      "execution_count": 269,
      "outputs": [
        {
          "output_type": "execute_result",
          "data": {
            "text/html": [
              "<div>\n",
              "<style scoped>\n",
              "    .dataframe tbody tr th:only-of-type {\n",
              "        vertical-align: middle;\n",
              "    }\n",
              "\n",
              "    .dataframe tbody tr th {\n",
              "        vertical-align: top;\n",
              "    }\n",
              "\n",
              "    .dataframe thead th {\n",
              "        text-align: right;\n",
              "    }\n",
              "</style>\n",
              "<table border=\"1\" class=\"dataframe\">\n",
              "  <thead>\n",
              "    <tr style=\"text-align: right;\">\n",
              "      <th></th>\n",
              "      <th>customer_id</th>\n",
              "      <th>vintage</th>\n",
              "      <th>age</th>\n",
              "      <th>dependents</th>\n",
              "      <th>city</th>\n",
              "      <th>customer_nw_category</th>\n",
              "      <th>branch_code</th>\n",
              "      <th>days_since_last_transaction</th>\n",
              "      <th>current_balance</th>\n",
              "      <th>previous_month_end_balance</th>\n",
              "      <th>average_monthly_balance_prevQ</th>\n",
              "      <th>average_monthly_balance_prevQ2</th>\n",
              "      <th>current_month_credit</th>\n",
              "      <th>previous_month_credit</th>\n",
              "      <th>current_month_debit</th>\n",
              "      <th>previous_month_debit</th>\n",
              "      <th>current_month_balance</th>\n",
              "      <th>previous_month_balance</th>\n",
              "      <th>churn</th>\n",
              "    </tr>\n",
              "  </thead>\n",
              "  <tbody>\n",
              "    <tr>\n",
              "      <th>count</th>\n",
              "      <td>28382.000000</td>\n",
              "      <td>28382.000000</td>\n",
              "      <td>28382.000000</td>\n",
              "      <td>25919.000000</td>\n",
              "      <td>27579.000000</td>\n",
              "      <td>28382.000000</td>\n",
              "      <td>28382.000000</td>\n",
              "      <td>25159.000000</td>\n",
              "      <td>2.838200e+04</td>\n",
              "      <td>2.838200e+04</td>\n",
              "      <td>2.838200e+04</td>\n",
              "      <td>2.838200e+04</td>\n",
              "      <td>2.838200e+04</td>\n",
              "      <td>2.838200e+04</td>\n",
              "      <td>2.838200e+04</td>\n",
              "      <td>2.838200e+04</td>\n",
              "      <td>2.838200e+04</td>\n",
              "      <td>2.838200e+04</td>\n",
              "      <td>28382.000000</td>\n",
              "    </tr>\n",
              "    <tr>\n",
              "      <th>mean</th>\n",
              "      <td>15143.508667</td>\n",
              "      <td>2364.336446</td>\n",
              "      <td>48.208336</td>\n",
              "      <td>0.347236</td>\n",
              "      <td>796.109576</td>\n",
              "      <td>2.225530</td>\n",
              "      <td>925.975019</td>\n",
              "      <td>69.997814</td>\n",
              "      <td>7.380552e+03</td>\n",
              "      <td>7.495771e+03</td>\n",
              "      <td>7.496780e+03</td>\n",
              "      <td>7.124209e+03</td>\n",
              "      <td>3.433252e+03</td>\n",
              "      <td>3.261694e+03</td>\n",
              "      <td>3.658745e+03</td>\n",
              "      <td>3.339761e+03</td>\n",
              "      <td>7.451133e+03</td>\n",
              "      <td>7.495177e+03</td>\n",
              "      <td>0.185329</td>\n",
              "    </tr>\n",
              "    <tr>\n",
              "      <th>std</th>\n",
              "      <td>8746.454456</td>\n",
              "      <td>1610.124506</td>\n",
              "      <td>17.807163</td>\n",
              "      <td>0.997661</td>\n",
              "      <td>432.872102</td>\n",
              "      <td>0.660443</td>\n",
              "      <td>937.799129</td>\n",
              "      <td>86.341098</td>\n",
              "      <td>4.259871e+04</td>\n",
              "      <td>4.252935e+04</td>\n",
              "      <td>4.172622e+04</td>\n",
              "      <td>4.457581e+04</td>\n",
              "      <td>7.707145e+04</td>\n",
              "      <td>2.968889e+04</td>\n",
              "      <td>5.198542e+04</td>\n",
              "      <td>2.430111e+04</td>\n",
              "      <td>4.203394e+04</td>\n",
              "      <td>4.243198e+04</td>\n",
              "      <td>0.388571</td>\n",
              "    </tr>\n",
              "    <tr>\n",
              "      <th>min</th>\n",
              "      <td>1.000000</td>\n",
              "      <td>180.000000</td>\n",
              "      <td>1.000000</td>\n",
              "      <td>0.000000</td>\n",
              "      <td>0.000000</td>\n",
              "      <td>1.000000</td>\n",
              "      <td>1.000000</td>\n",
              "      <td>0.000000</td>\n",
              "      <td>-5.503960e+03</td>\n",
              "      <td>-3.149570e+03</td>\n",
              "      <td>1.428690e+03</td>\n",
              "      <td>-1.650610e+04</td>\n",
              "      <td>1.000000e-02</td>\n",
              "      <td>1.000000e-02</td>\n",
              "      <td>1.000000e-02</td>\n",
              "      <td>1.000000e-02</td>\n",
              "      <td>-3.374180e+03</td>\n",
              "      <td>-5.171920e+03</td>\n",
              "      <td>0.000000</td>\n",
              "    </tr>\n",
              "    <tr>\n",
              "      <th>25%</th>\n",
              "      <td>7557.250000</td>\n",
              "      <td>1121.000000</td>\n",
              "      <td>36.000000</td>\n",
              "      <td>0.000000</td>\n",
              "      <td>409.000000</td>\n",
              "      <td>2.000000</td>\n",
              "      <td>176.000000</td>\n",
              "      <td>11.000000</td>\n",
              "      <td>1.784470e+03</td>\n",
              "      <td>1.906000e+03</td>\n",
              "      <td>2.180945e+03</td>\n",
              "      <td>1.832507e+03</td>\n",
              "      <td>3.100000e-01</td>\n",
              "      <td>3.300000e-01</td>\n",
              "      <td>4.100000e-01</td>\n",
              "      <td>4.100000e-01</td>\n",
              "      <td>1.996765e+03</td>\n",
              "      <td>2.074408e+03</td>\n",
              "      <td>0.000000</td>\n",
              "    </tr>\n",
              "    <tr>\n",
              "      <th>50%</th>\n",
              "      <td>15150.500000</td>\n",
              "      <td>2018.000000</td>\n",
              "      <td>46.000000</td>\n",
              "      <td>0.000000</td>\n",
              "      <td>834.000000</td>\n",
              "      <td>2.000000</td>\n",
              "      <td>572.000000</td>\n",
              "      <td>30.000000</td>\n",
              "      <td>3.281255e+03</td>\n",
              "      <td>3.379915e+03</td>\n",
              "      <td>3.542865e+03</td>\n",
              "      <td>3.359600e+03</td>\n",
              "      <td>6.100000e-01</td>\n",
              "      <td>6.300000e-01</td>\n",
              "      <td>9.193000e+01</td>\n",
              "      <td>1.099600e+02</td>\n",
              "      <td>3.447995e+03</td>\n",
              "      <td>3.465235e+03</td>\n",
              "      <td>0.000000</td>\n",
              "    </tr>\n",
              "    <tr>\n",
              "      <th>75%</th>\n",
              "      <td>22706.750000</td>\n",
              "      <td>3176.000000</td>\n",
              "      <td>60.000000</td>\n",
              "      <td>0.000000</td>\n",
              "      <td>1096.000000</td>\n",
              "      <td>3.000000</td>\n",
              "      <td>1440.000000</td>\n",
              "      <td>95.000000</td>\n",
              "      <td>6.635820e+03</td>\n",
              "      <td>6.656535e+03</td>\n",
              "      <td>6.666887e+03</td>\n",
              "      <td>6.517960e+03</td>\n",
              "      <td>7.072725e+02</td>\n",
              "      <td>7.492350e+02</td>\n",
              "      <td>1.360435e+03</td>\n",
              "      <td>1.357553e+03</td>\n",
              "      <td>6.667958e+03</td>\n",
              "      <td>6.654693e+03</td>\n",
              "      <td>0.000000</td>\n",
              "    </tr>\n",
              "    <tr>\n",
              "      <th>max</th>\n",
              "      <td>30301.000000</td>\n",
              "      <td>12899.000000</td>\n",
              "      <td>90.000000</td>\n",
              "      <td>52.000000</td>\n",
              "      <td>1649.000000</td>\n",
              "      <td>3.000000</td>\n",
              "      <td>4782.000000</td>\n",
              "      <td>365.000000</td>\n",
              "      <td>5.905904e+06</td>\n",
              "      <td>5.740439e+06</td>\n",
              "      <td>5.700290e+06</td>\n",
              "      <td>5.010170e+06</td>\n",
              "      <td>1.226985e+07</td>\n",
              "      <td>2.361808e+06</td>\n",
              "      <td>7.637857e+06</td>\n",
              "      <td>1.414168e+06</td>\n",
              "      <td>5.778185e+06</td>\n",
              "      <td>5.720144e+06</td>\n",
              "      <td>1.000000</td>\n",
              "    </tr>\n",
              "  </tbody>\n",
              "</table>\n",
              "</div>"
            ],
            "text/plain": [
              "        customer_id       vintage  ...  previous_month_balance         churn\n",
              "count  28382.000000  28382.000000  ...            2.838200e+04  28382.000000\n",
              "mean   15143.508667   2364.336446  ...            7.495177e+03      0.185329\n",
              "std     8746.454456   1610.124506  ...            4.243198e+04      0.388571\n",
              "min        1.000000    180.000000  ...           -5.171920e+03      0.000000\n",
              "25%     7557.250000   1121.000000  ...            2.074408e+03      0.000000\n",
              "50%    15150.500000   2018.000000  ...            3.465235e+03      0.000000\n",
              "75%    22706.750000   3176.000000  ...            6.654693e+03      0.000000\n",
              "max    30301.000000  12899.000000  ...            5.720144e+06      1.000000\n",
              "\n",
              "[8 rows x 19 columns]"
            ]
          },
          "metadata": {
            "tags": []
          },
          "execution_count": 269
        }
      ]
    },
    {
      "cell_type": "markdown",
      "metadata": {
        "id": "y28fmlTHGPGW"
      },
      "source": [
        "* The describe function works only for continuous variables.\n",
        "* We can identify the number of missing values from the 'count' given."
      ]
    },
    {
      "cell_type": "code",
      "metadata": {
        "id": "xM53TL2gMO4y",
        "outputId": "0a1e350a-ead0-46e1-f154-7e5ae5951eba",
        "colab": {
          "base_uri": "https://localhost:8080/"
        }
      },
      "source": [
        "#Get unique count for each variable\n",
        "\n",
        "df.nunique()"
      ],
      "execution_count": 270,
      "outputs": [
        {
          "output_type": "execute_result",
          "data": {
            "text/plain": [
              "customer_id                       28382\n",
              "vintage                            5473\n",
              "age                                  90\n",
              "gender                                2\n",
              "dependents                           15\n",
              "occupation                            5\n",
              "city                               1604\n",
              "customer_nw_category                  3\n",
              "branch_code                        3185\n",
              "days_since_last_transaction         360\n",
              "current_balance                   27903\n",
              "previous_month_end_balance        27922\n",
              "average_monthly_balance_prevQ     27801\n",
              "average_monthly_balance_prevQ2    27940\n",
              "current_month_credit              10411\n",
              "previous_month_credit             10711\n",
              "current_month_debit               13704\n",
              "previous_month_debit              14010\n",
              "current_month_balance             27944\n",
              "previous_month_balance            27913\n",
              "churn                                 2\n",
              "dtype: int64"
            ]
          },
          "metadata": {
            "tags": []
          },
          "execution_count": 270
        }
      ]
    },
    {
      "cell_type": "code",
      "metadata": {
        "id": "YZ7e5gFKN6vY",
        "outputId": "80245866-9716-46e7-afa3-d106095be58b",
        "colab": {
          "base_uri": "https://localhost:8080/"
        }
      },
      "source": [
        "#Checking variable data types\n",
        "\n",
        "df.dtypes"
      ],
      "execution_count": 271,
      "outputs": [
        {
          "output_type": "execute_result",
          "data": {
            "text/plain": [
              "customer_id                         int64\n",
              "vintage                             int64\n",
              "age                                 int64\n",
              "gender                             object\n",
              "dependents                        float64\n",
              "occupation                         object\n",
              "city                              float64\n",
              "customer_nw_category                int64\n",
              "branch_code                         int64\n",
              "days_since_last_transaction       float64\n",
              "current_balance                   float64\n",
              "previous_month_end_balance        float64\n",
              "average_monthly_balance_prevQ     float64\n",
              "average_monthly_balance_prevQ2    float64\n",
              "current_month_credit              float64\n",
              "previous_month_credit             float64\n",
              "current_month_debit               float64\n",
              "previous_month_debit              float64\n",
              "current_month_balance             float64\n",
              "previous_month_balance            float64\n",
              "churn                               int64\n",
              "dtype: object"
            ]
          },
          "metadata": {
            "tags": []
          },
          "execution_count": 271
        }
      ]
    },
    {
      "cell_type": "markdown",
      "metadata": {
        "id": "NXIpOT7FAHhS"
      },
      "source": [
        "### Missing Values\n",
        "Before we go on to build the model, we must look for missing values within the dataset as treating the missing values  is a necessary step before we fit a model on the dataset."
      ]
    },
    {
      "cell_type": "code",
      "metadata": {
        "id": "JdAhbu4dAHhV",
        "outputId": "1cb66bfa-515f-45a8-b97d-c957f83fc639",
        "colab": {
          "base_uri": "https://localhost:8080/"
        }
      },
      "source": [
        "pd.isnull(df).sum()"
      ],
      "execution_count": 272,
      "outputs": [
        {
          "output_type": "execute_result",
          "data": {
            "text/plain": [
              "customer_id                          0\n",
              "vintage                              0\n",
              "age                                  0\n",
              "gender                             525\n",
              "dependents                        2463\n",
              "occupation                          80\n",
              "city                               803\n",
              "customer_nw_category                 0\n",
              "branch_code                          0\n",
              "days_since_last_transaction       3223\n",
              "current_balance                      0\n",
              "previous_month_end_balance           0\n",
              "average_monthly_balance_prevQ        0\n",
              "average_monthly_balance_prevQ2       0\n",
              "current_month_credit                 0\n",
              "previous_month_credit                0\n",
              "current_month_debit                  0\n",
              "previous_month_debit                 0\n",
              "current_month_balance                0\n",
              "previous_month_balance               0\n",
              "churn                                0\n",
              "dtype: int64"
            ]
          },
          "metadata": {
            "tags": []
          },
          "execution_count": 272
        }
      ]
    },
    {
      "cell_type": "markdown",
      "metadata": {
        "id": "Em3c5urNAHhe"
      },
      "source": [
        "The result of this function shows that there are quite a few missing values in columns gender, dependents, city, days since last transaction and Percentage change in credits. Let us go through each of them 1 by 1 to find the appropriate missing value imputation strategy for each of them."
      ]
    },
    {
      "cell_type": "markdown",
      "metadata": {
        "id": "QtLHnASMAHhf"
      },
      "source": [
        "#### Gender\n",
        "\n",
        "Let us look at the categories within gender column"
      ]
    },
    {
      "cell_type": "code",
      "metadata": {
        "id": "vmyzK5nnAHhg",
        "outputId": "d052eeac-1ddf-46cd-f24a-230c1e3639a6",
        "colab": {
          "base_uri": "https://localhost:8080/"
        }
      },
      "source": [
        "df['gender'].value_counts()"
      ],
      "execution_count": 273,
      "outputs": [
        {
          "output_type": "execute_result",
          "data": {
            "text/plain": [
              "Male      16548\n",
              "Female    11309\n",
              "Name: gender, dtype: int64"
            ]
          },
          "metadata": {
            "tags": []
          },
          "execution_count": 273
        }
      ]
    },
    {
      "cell_type": "markdown",
      "metadata": {
        "id": "pR_OJiywAHhp"
      },
      "source": [
        "So there is a good mix of males and females and arguably missing values cannot be filled with any one of them. We could create a seperate category by assigning the value -1 for all missing values in this column.\n",
        "\n",
        "Before that, first we will convert the gender into 0/1 and then replace missing values with -1"
      ]
    },
    {
      "cell_type": "code",
      "metadata": {
        "id": "hjJTjP4RzjMx"
      },
      "source": [
        "#Convert Gender\n",
        "dict_gender = {'Male': 1, 'Female':0}\n",
        "df.replace({'gender': dict_gender}, inplace = True)\n",
        "\n",
        "df['gender'] = df['gender'].fillna(-1)"
      ],
      "execution_count": 274,
      "outputs": []
    },
    {
      "cell_type": "markdown",
      "metadata": {
        "id": "HNrSPOtjAHhz"
      },
      "source": [
        "#### Dependents, occupation and city with mode\n",
        "\n",
        "Next we will have a quick look at the dependents & occupations column and impute with mode as this is sort of an ordinal variable"
      ]
    },
    {
      "cell_type": "code",
      "metadata": {
        "id": "JPb_NNYiAHh1",
        "outputId": "aaa7a64e-07ec-49fb-9275-bd6622ce2e54",
        "colab": {
          "base_uri": "https://localhost:8080/"
        }
      },
      "source": [
        "df['dependents'].value_counts()"
      ],
      "execution_count": 275,
      "outputs": [
        {
          "output_type": "execute_result",
          "data": {
            "text/plain": [
              "0.0     21435\n",
              "2.0      2150\n",
              "1.0      1395\n",
              "3.0       701\n",
              "4.0       179\n",
              "5.0        41\n",
              "6.0         8\n",
              "7.0         3\n",
              "36.0        1\n",
              "52.0        1\n",
              "25.0        1\n",
              "9.0         1\n",
              "50.0        1\n",
              "32.0        1\n",
              "8.0         1\n",
              "Name: dependents, dtype: int64"
            ]
          },
          "metadata": {
            "tags": []
          },
          "execution_count": 275
        }
      ]
    },
    {
      "cell_type": "code",
      "metadata": {
        "id": "tu7SbAJLAHh9",
        "outputId": "7d8791b8-1054-4392-a7ea-28312b45094e",
        "colab": {
          "base_uri": "https://localhost:8080/"
        }
      },
      "source": [
        "df['occupation'].value_counts()"
      ],
      "execution_count": 276,
      "outputs": [
        {
          "output_type": "execute_result",
          "data": {
            "text/plain": [
              "self_employed    17476\n",
              "salaried          6704\n",
              "student           2058\n",
              "retired           2024\n",
              "company             40\n",
              "Name: occupation, dtype: int64"
            ]
          },
          "metadata": {
            "tags": []
          },
          "execution_count": 276
        }
      ]
    },
    {
      "cell_type": "code",
      "metadata": {
        "id": "biromMT_AHiD"
      },
      "source": [
        "df['dependents'] = df['dependents'].fillna(0)\n",
        "df['occupation'] = df['occupation'].fillna('self_employed')"
      ],
      "execution_count": 277,
      "outputs": []
    },
    {
      "cell_type": "markdown",
      "metadata": {
        "id": "zh83HhP6AHiJ"
      },
      "source": [
        "Similarly City can also be imputed with most common category 1020"
      ]
    },
    {
      "cell_type": "code",
      "metadata": {
        "id": "VwAOsj4SAHiK"
      },
      "source": [
        "df['city'] = df['city'].fillna(1020)"
      ],
      "execution_count": 278,
      "outputs": []
    },
    {
      "cell_type": "markdown",
      "metadata": {
        "id": "0-xv7Wd1AHiS"
      },
      "source": [
        "#### Days since Last Transaction\n",
        "A fair assumption can be made on this column as this is number of days since last transaction in 1 year, we can substitute missing values with a value greater than 1 year say 999"
      ]
    },
    {
      "cell_type": "code",
      "metadata": {
        "id": "al0bdNKrAHiT"
      },
      "source": [
        "df['days_since_last_transaction'] = df['days_since_last_transaction'].fillna(999)"
      ],
      "execution_count": 279,
      "outputs": []
    },
    {
      "cell_type": "markdown",
      "metadata": {
        "id": "9SkHnvfoHw_t"
      },
      "source": [
        "# Checking Missing Values"
      ]
    },
    {
      "cell_type": "code",
      "metadata": {
        "id": "dte4r1lpH3up",
        "outputId": "972c3acd-3056-455e-c6c3-138cf3529e25",
        "colab": {
          "base_uri": "https://localhost:8080/"
        }
      },
      "source": [
        "df.isnull().sum()"
      ],
      "execution_count": 280,
      "outputs": [
        {
          "output_type": "execute_result",
          "data": {
            "text/plain": [
              "customer_id                       0\n",
              "vintage                           0\n",
              "age                               0\n",
              "gender                            0\n",
              "dependents                        0\n",
              "occupation                        0\n",
              "city                              0\n",
              "customer_nw_category              0\n",
              "branch_code                       0\n",
              "days_since_last_transaction       0\n",
              "current_balance                   0\n",
              "previous_month_end_balance        0\n",
              "average_monthly_balance_prevQ     0\n",
              "average_monthly_balance_prevQ2    0\n",
              "current_month_credit              0\n",
              "previous_month_credit             0\n",
              "current_month_debit               0\n",
              "previous_month_debit              0\n",
              "current_month_balance             0\n",
              "previous_month_balance            0\n",
              "churn                             0\n",
              "dtype: int64"
            ]
          },
          "metadata": {
            "tags": []
          },
          "execution_count": 280
        }
      ]
    },
    {
      "cell_type": "markdown",
      "metadata": {
        "id": "bwibYvY2TbMx"
      },
      "source": [
        "# Exploratory Data Analysis\n",
        "Our main interest is to get an understanding as to how the given attributes relate to the 'Exit' status."
      ]
    },
    {
      "cell_type": "code",
      "metadata": {
        "id": "TLJ7BmzuTW2o",
        "outputId": "bebad55c-5ad2-4bc4-b21d-f148564d4717",
        "colab": {
          "base_uri": "https://localhost:8080/",
          "height": 487
        }
      },
      "source": [
        "labels = 'churn', 'Retained'\n",
        "sizes = [df.churn[df['churn']==1].count(), df.churn[df['churn']==0].count()]\n",
        "explode = (0, 0.1)\n",
        "fig1, ax1 = plt.subplots(figsize=(10, 8))\n",
        "ax1.pie(sizes, explode=explode, labels=labels, autopct='%1.1f%%',\n",
        "        shadow=True, startangle=90)\n",
        "ax1.axis('equal')\n",
        "plt.title(\"Proportion of customer churned and retained\", size = 20)\n",
        "plt.show()"
      ],
      "execution_count": 281,
      "outputs": [
        {
          "output_type": "display_data",
          "data": {
            "image/png": "[encoded data removed]",
            "text/plain": [
              "<Figure size 720x576 with 1 Axes>"
            ]
          },
          "metadata": {
            "tags": []
          }
        }
      ]
    },
    {
      "cell_type": "markdown",
      "metadata": {
        "id": "3ZnBncowT4J9"
      },
      "source": [
        "So about 18.5% of the customers have churned. So the baseline model could be to predict that 18.5% of the customers will churn. Given 18.5% is a small number, we need to ensure that the chosen model does predict with great accuracy this 18.5% as it is of interest to the bank to identify and keep this bunch as opposed to accurately predicting the customers that are retained."
      ]
    },
    {
      "cell_type": "code",
      "metadata": {
        "id": "ES3urnr9lBR_",
        "outputId": "0faac269-f161-4c2e-aa83-a761d61124d0",
        "colab": {
          "base_uri": "https://localhost:8080/",
          "height": 735
        }
      },
      "source": [
        "#We first review the 'Status' relation with categorical variables\n",
        "    \n",
        "fig, axarr = plt.subplots(2, 2, figsize=(20, 12))\n",
        "sns.countplot(x='gender', hue = 'churn',data = df, ax=axarr[0][0])\n",
        "sns.countplot(x='occupation', hue = 'churn',data = df, ax=axarr[0][1])\n",
        "sns.countplot(x='city', hue = 'churn',data = df, ax=axarr[1][0])\n",
        "sns.countplot(x='customer_nw_category', hue = 'churn',data = df, ax=axarr[1][1])"
      ],
      "execution_count": 282,
      "outputs": [
        {
          "output_type": "execute_result",
          "data": {
            "text/plain": [
              "<matplotlib.axes._subplots.AxesSubplot at 0x7ff5603ccac8>"
            ]
          },
          "metadata": {
            "tags": []
          },
          "execution_count": 282
        },
        {
          "output_type": "display_data",
          "data": {
            "image/png": "[encoded data removed]",
            "text/plain": [
              "<Figure size 1440x864 with 4 Axes>"
            ]
          },
          "metadata": {
            "tags": [],
            "needs_background": "light"
          }
        }
      ]
    },
    {
      "cell_type": "code",
      "metadata": {
        "id": "fc001YE1it6J",
        "outputId": "20d45e41-dfe7-4c55-d4c9-d4b9b10f2302",
        "colab": {
          "base_uri": "https://localhost:8080/",
          "height": 731
        }
      },
      "source": [
        "#Relations based on the continuous data attributes\n",
        "\n",
        "fig, axarr = plt.subplots(3, 2, figsize=(20, 12))\n",
        "sns.boxplot(y='vintage',x = 'churn', hue = 'churn',data = df, ax=axarr[0][0])\n",
        "sns.boxplot(y='age',x = 'churn', hue = 'churn',data = df , ax=axarr[0][1])\n",
        "sns.boxplot(y='dependents',x = 'churn', hue = 'churn',data = df, ax=axarr[1][0])\n",
        "sns.boxplot(y='current_balance',x = 'churn', hue = 'churn',data = df, ax=axarr[1][1])\n",
        "sns.boxplot(y='current_month_credit',x = 'churn', hue = 'churn',data = df, ax=axarr[2][0])\n",
        "sns.boxplot(y='current_month_debit',x = 'churn', hue = 'churn',data = df, ax=axarr[2][1])"
      ],
      "execution_count": 283,
      "outputs": [
        {
          "output_type": "execute_result",
          "data": {
            "text/plain": [
              "<matplotlib.axes._subplots.AxesSubplot at 0x7ff560290b00>"
            ]
          },
          "metadata": {
            "tags": []
          },
          "execution_count": 283
        },
        {
          "output_type": "display_data",
          "data": {
            "image/png": "[encoded data removed]",
            "text/plain": [
              "<Figure size 1440x864 with 6 Axes>"
            ]
          },
          "metadata": {
            "tags": [],
            "needs_background": "light"
          }
        }
      ]
    },
    {
      "cell_type": "markdown",
      "metadata": {
        "id": "vYHE2v1MAHiW"
      },
      "source": [
        "### Preprocessing\n",
        "\n",
        "Now, before applying linear model such as logistic regression, we need to scale the data and keep all features as numeric strictly. \n"
      ]
    },
    {
      "cell_type": "markdown",
      "metadata": {
        "id": "OAc8qADXAHiX"
      },
      "source": [
        "### Dummies with Multiple Categories"
      ]
    },
    {
      "cell_type": "code",
      "metadata": {
        "id": "sTsmU4k6AHiX"
      },
      "source": [
        "# Convert occupation to one hot encoded features\n",
        "df = pd.concat([df,pd.get_dummies(df['occupation'],prefix = str('occupation'),prefix_sep='_')],axis = 1)"
      ],
      "execution_count": 284,
      "outputs": []
    },
    {
      "cell_type": "markdown",
      "metadata": {
        "id": "6IQlXqiGAHib"
      },
      "source": [
        "### Scaling Numerical Features for Logistic Regression\n",
        "\n",
        "Now, we remember that there are a lot of outliers in the dataset especially when it comes to previous and current balance features. Also, the distributions are skewed for these features. We will take 2 steps to deal with that here:\n",
        "* Log Transformation\n",
        "* Standard Scaler\n",
        "\n",
        "Standard scaling is anyways a necessity when it comes to linear models and we have done that here after doing log transformation on all balance features."
      ]
    },
    {
      "cell_type": "code",
      "metadata": {
        "id": "stEd-rqGAHic"
      },
      "source": [
        "num_cols = ['customer_nw_category', 'current_balance',\n",
        "            'previous_month_end_balance', 'average_monthly_balance_prevQ2', 'average_monthly_balance_prevQ',\n",
        "            'current_month_credit','previous_month_credit', 'current_month_debit', \n",
        "            'previous_month_debit','current_month_balance', 'previous_month_balance']\n",
        "for i in num_cols:\n",
        "    df[i] = np.log(df[i] + 17000)\n",
        "\n",
        "std = StandardScaler()\n",
        "scaled = std.fit_transform(df[num_cols])\n",
        "scaled = pd.DataFrame(scaled,columns=num_cols)"
      ],
      "execution_count": 285,
      "outputs": []
    },
    {
      "cell_type": "code",
      "metadata": {
        "id": "qE-rRCN0AHif"
      },
      "source": [
        "df_df_og = df.copy()\n",
        "df = df.drop(columns = num_cols,axis = 1)\n",
        "df = df.merge(scaled,left_index=True,right_index=True,how = \"left\")"
      ],
      "execution_count": 286,
      "outputs": []
    },
    {
      "cell_type": "code",
      "metadata": {
        "id": "jYSq8iOGAHii"
      },
      "source": [
        "y_all = df.churn\n",
        "df = df.drop(['churn','customer_id','occupation'],axis = 1)"
      ],
      "execution_count": 287,
      "outputs": []
    },
    {
      "cell_type": "markdown",
      "metadata": {
        "id": "qTS-629AAHil"
      },
      "source": [
        "## Model Building and Evaluation Metrics\n",
        "Since this is a binary classification problem, we could use the following 2 popular metrics:\n",
        "\n",
        "1. Recall\n",
        "2. Area under the Receiver operating characteristic curve\n",
        "\n",
        "Now, we are looking at the recall value here because a customer falsely marked as churn would not be as bad as a customer who was not detected as a churning customer and appropriate measures were not taken by the bank to stop him/her from churning\n",
        "\n",
        "The ROC AUC is the area under the curve when plotting the (normalized) true positive rate (x-axis) and the false positive rate (y-axis).\n",
        "\n",
        "Our main metric here would be Recall values, while AUC ROC Score would take care of how well predicted probabilites are able to differentiate between the 2 classes."
      ]
    },
    {
      "cell_type": "markdown",
      "metadata": {
        "id": "s8wY9LayAHim"
      },
      "source": [
        "### Conclusions from EDA\n",
        "* For debit values, we see that there is a significant difference in the distribution for churn and non churn and it might be turn out to be an important feature\n",
        "* For all the balance features the lower values have much higher proportion of churning customers\n",
        "* For most frequent vintage values, the churning customers are slightly higher, while for higher values of vintage, we have mostly non churning customers which is in sync with the age variable \n",
        "* We see significant difference for different occupations and certainly would be interesting to use as a feature for prediction of churn.\n",
        "\n",
        "Now, we will first split our dataset into test and train and using the above conclusions select columns and build a baseline logistic regression model to check the ROC-AUC Score & the confusion matrix"
      ]
    },
    {
      "cell_type": "markdown",
      "metadata": {
        "id": "KsXFbShCAHim"
      },
      "source": [
        "### Baseline Columns"
      ]
    },
    {
      "cell_type": "code",
      "metadata": {
        "id": "fPIhADJBAHin"
      },
      "source": [
        "baseline_cols = ['current_month_debit', 'previous_month_debit','current_balance','previous_month_end_balance','vintage',\n",
        "                 'occupation_retired', 'occupation_salaried','occupation_self_employed', 'occupation_student']"
      ],
      "execution_count": 288,
      "outputs": []
    },
    {
      "cell_type": "code",
      "metadata": {
        "id": "XyaCRvByAHiq"
      },
      "source": [
        "df_baseline = df[baseline_cols]"
      ],
      "execution_count": 289,
      "outputs": []
    },
    {
      "cell_type": "markdown",
      "metadata": {
        "id": "dwuT2vTdAHit"
      },
      "source": [
        "### Train Test Split to create a validation set"
      ]
    },
    {
      "cell_type": "code",
      "metadata": {
        "id": "iMg70Q05AHiu"
      },
      "source": [
        "# Splitting the data into Train and Validation set\n",
        "xtrain, xtest, ytrain, ytest = train_test_split(df_baseline,y_all,test_size=1/3, random_state=11, stratify = y_all)"
      ],
      "execution_count": 290,
      "outputs": []
    },
    {
      "cell_type": "code",
      "metadata": {
        "id": "NOfAABUtAHix"
      },
      "source": [
        "model = LogisticRegression()\n",
        "model.fit(xtrain,ytrain)\n",
        "pred = model.predict_proba(xtest)[:,1]"
      ],
      "execution_count": 291,
      "outputs": []
    },
    {
      "cell_type": "markdown",
      "metadata": {
        "id": "r9gg6Hw2AHi0"
      },
      "source": [
        "### AUC ROC Curve & Confusion Matrix \n",
        "\n",
        "Now, let us quickly look at the AUC-ROC curve for our logistic regression model and also the confusion matrix to see where the logistic regression model is failing here."
      ]
    },
    {
      "cell_type": "code",
      "metadata": {
        "id": "ompuWqEeAHi1",
        "outputId": "7f6b23e7-a412-4738-f503-1b6c5aa3e50e",
        "colab": {
          "base_uri": "https://localhost:8080/",
          "height": 497
        }
      },
      "source": [
        "from sklearn.metrics import roc_curve\n",
        "fpr, tpr, _ = roc_curve(ytest,pred) \n",
        "auc = roc_auc_score(ytest, pred) \n",
        "plt.figure(figsize=(12,8)) \n",
        "plt.plot(fpr,tpr,label=\"Validation AUC-ROC=\"+str(auc)) \n",
        "x = np.linspace(0, 1, 1000)\n",
        "plt.plot(x, x, linestyle='-')\n",
        "plt.xlabel('False Positive Rate') \n",
        "plt.ylabel('True Positive Rate') \n",
        "plt.legend(loc=4) \n",
        "plt.show()"
      ],
      "execution_count": 292,
      "outputs": [
        {
          "output_type": "display_data",
          "data": {
            "image/png": "[encoded data removed]",
            "text/plain": [
              "<Figure size 864x576 with 1 Axes>"
            ]
          },
          "metadata": {
            "tags": [],
            "needs_background": "light"
          }
        }
      ]
    },
    {
      "cell_type": "code",
      "metadata": {
        "id": "3Z1DtSZFAHi4"
      },
      "source": [
        "# Confusion Matrix\n",
        "pred_val = model.predict(xtest)"
      ],
      "execution_count": 293,
      "outputs": []
    },
    {
      "cell_type": "code",
      "metadata": {
        "id": "Mk84btsqAHi7",
        "outputId": "824b526c-2f35-4600-dd03-11478103f586",
        "colab": {
          "base_uri": "https://localhost:8080/",
          "height": 374
        }
      },
      "source": [
        "label_preds = pred_val\n",
        "\n",
        "cm = confusion_matrix(ytest,label_preds)\n",
        "\n",
        "\n",
        "def plot_confusion_matrix(cm, normalized=True, cmap='bone'):\n",
        "    plt.figure(figsize=[7, 6])\n",
        "    norm_cm = cm\n",
        "    if normalized:\n",
        "        norm_cm = cm.astype('float') / cm.sum(axis=1)[:, np.newaxis]\n",
        "        sns.heatmap(norm_cm, annot=cm, fmt='g', xticklabels=['Predicted: No','Predicted: Yes'], yticklabels=['Actual: No','Actual: Yes'], cmap=cmap)\n",
        "\n",
        "plot_confusion_matrix(cm, ['No', 'Yes'])"
      ],
      "execution_count": 294,
      "outputs": [
        {
          "output_type": "display_data",
          "data": {
            "image/png": "[encoded data removed]",
            "text/plain": [
              "<Figure size 504x432 with 2 Axes>"
            ]
          },
          "metadata": {
            "tags": [],
            "needs_background": "light"
          }
        }
      ]
    },
    {
      "cell_type": "code",
      "metadata": {
        "id": "8NcbxyvkAHi-",
        "outputId": "3d80a7b2-121b-4d10-f090-08580f93ef70",
        "colab": {
          "base_uri": "https://localhost:8080/"
        }
      },
      "source": [
        "#Recall Score\n",
        "\n",
        "recall_score(ytest,pred_val)"
      ],
      "execution_count": 295,
      "outputs": [
        {
          "output_type": "execute_result",
          "data": {
            "text/plain": [
              "0.11580148317170565"
            ]
          },
          "metadata": {
            "tags": []
          },
          "execution_count": 295
        }
      ]
    },
    {
      "cell_type": "markdown",
      "metadata": {
        "id": "zEoAGJ04AHjB"
      },
      "source": [
        "### Cross validation\n",
        "\n",
        "\n",
        "Cross Validation is one of the most important concepts in any type of data modelling. It simply says, try to leave a sample on which you do not train the model and test the model on this sample before finalizing the model.\n",
        "\n",
        "We divide the entire population into k equal samples. Now we train models on k-1 samples and validate on 1 sample. Then, at the second iteration we train the model with a different sample held as validation. \n",
        "\n",
        "In k iterations, we have basically built model on each sample and held each of them as validation. This is a way to reduce the selection bias and reduce the variance in prediction power.\n",
        "\n",
        "Since it builds several models on different subsets of the dataset, we can be more sure of our model performance if we use CV for testing our models."
      ]
    },
    {
      "cell_type": "code",
      "metadata": {
        "id": "EJ4q9z8gAHjB"
      },
      "source": [
        "def cv_score(ml_model, rstate = 12, thres = 0.5, cols = df.columns):\n",
        "    i = 1\n",
        "    cv_scores = []\n",
        "    df1 = df.copy()\n",
        "    df1 = df[cols]\n",
        "    \n",
        "    # 5 Fold cross validation stratified on the basis of target\n",
        "    kf = StratifiedKFold(n_splits=5,random_state=rstate,shuffle=True)\n",
        "    for df_index,test_index in kf.split(df1,y_all):\n",
        "        print('\\n{} of kfold {}'.format(i,kf.n_splits))\n",
        "        xtr,xvl = df1.loc[df_index],df1.loc[test_index]\n",
        "        ytr,yvl = y_all.loc[df_index],y_all.loc[test_index]\n",
        "            \n",
        "        # Define model for fitting on the training set for each fold\n",
        "        model = ml_model\n",
        "        model.fit(xtr, ytr)\n",
        "        pred_probs = model.predict_proba(xvl)\n",
        "        pp = []\n",
        "         \n",
        "        # Use threshold to define the classes based on probability values\n",
        "        for j in pred_probs[:,1]:\n",
        "            if j>thres:\n",
        "                pp.append(1)\n",
        "            else:\n",
        "                pp.append(0)\n",
        "         \n",
        "        # Calculate scores for each fold and print\n",
        "        pred_val = pp\n",
        "        roc_score = roc_auc_score(yvl,pred_probs[:,1])\n",
        "        recall = recall_score(yvl,pred_val)\n",
        "        precision = precision_score(yvl,pred_val)\n",
        "        sufix = \"\"\n",
        "        msg = \"\"\n",
        "        msg += \"ROC AUC Score: {}, Recall Score: {:.4f}, Precision Score: {:.4f} \".format(roc_score, recall,precision)\n",
        "        print(\"{}\".format(msg))\n",
        "         \n",
        "         # Save scores\n",
        "        cv_scores.append(roc_score)\n",
        "        i+=1\n",
        "    return cv_scores"
      ],
      "execution_count": 296,
      "outputs": []
    },
    {
      "cell_type": "code",
      "metadata": {
        "id": "yPKPsOGdAHjE",
        "outputId": "1df5fbd7-37b4-496b-e1b4-365fa6469d1c",
        "colab": {
          "base_uri": "https://localhost:8080/"
        }
      },
      "source": [
        "baseline_scores = cv_score(LogisticRegression(), cols = baseline_cols)"
      ],
      "execution_count": 297,
      "outputs": [
        {
          "output_type": "stream",
          "text": [
            "\n",
            "1 of kfold 5\n",
            "ROC AUC Score: 0.7644836090843695, Recall Score: 0.0751, Precision Score: 0.5766 \n",
            "\n",
            "2 of kfold 5\n",
            "ROC AUC Score: 0.7782178604459974, Recall Score: 0.0751, Precision Score: 0.6639 \n",
            "\n",
            "3 of kfold 5\n",
            "ROC AUC Score: 0.7552279313089585, Recall Score: 0.1350, Precision Score: 0.6425 \n",
            "\n",
            "4 of kfold 5\n",
            "ROC AUC Score: 0.7582062754088439, Recall Score: 0.1169, Precision Score: 0.6508 \n",
            "\n",
            "5 of kfold 5\n",
            "ROC AUC Score: 0.7622061125948926, Recall Score: 0.1112, Precision Score: 0.5821 \n"
          ],
          "name": "stdout"
        }
      ]
    },
    {
      "cell_type": "markdown",
      "metadata": {
        "id": "TT8MqEPJAHjG"
      },
      "source": [
        "Now let us try using all columns available to check if we get significant improvement."
      ]
    },
    {
      "cell_type": "code",
      "metadata": {
        "id": "G80G6dqyAHjH",
        "outputId": "219eee29-d2ab-4176-d687-9e640397e671",
        "colab": {
          "base_uri": "https://localhost:8080/"
        }
      },
      "source": [
        "all_feat_scores = cv_score(LogisticRegression())"
      ],
      "execution_count": 298,
      "outputs": [
        {
          "output_type": "stream",
          "text": [
            "\n",
            "1 of kfold 5\n",
            "ROC AUC Score: 0.73307553180557, Recall Score: 0.1122, Precision Score: 0.5108 \n",
            "\n",
            "2 of kfold 5\n",
            "ROC AUC Score: 0.7682104614119825, Recall Score: 0.1958, Precision Score: 0.6799 \n",
            "\n",
            "3 of kfold 5\n",
            "ROC AUC Score: 0.7392958049916456, Recall Score: 0.1683, Precision Score: 0.5728 \n",
            "\n",
            "4 of kfold 5\n",
            "ROC AUC Score: 0.7505996569394925, Recall Score: 0.1473, Precision Score: 0.7014 \n",
            "\n",
            "5 of kfold 5\n",
            "ROC AUC Score: 0.7590795502387938, Recall Score: 0.1778, Precision Score: 0.6052 \n"
          ],
          "name": "stdout"
        }
      ]
    },
    {
      "cell_type": "markdown",
      "metadata": {
        "id": "BKdDpS0PAHjJ"
      },
      "source": [
        "There is some improvement in both ROC AUC Scores and Precision/Recall Scores."
      ]
    },
    {
      "cell_type": "code",
      "metadata": {
        "id": "jgz-sUdYAHjJ"
      },
      "source": [
        "from sklearn.ensemble import RandomForestClassifier"
      ],
      "execution_count": 299,
      "outputs": []
    },
    {
      "cell_type": "code",
      "metadata": {
        "id": "dUQxFjveAHjM",
        "outputId": "2215e888-12b2-46b4-b4b6-d43749fdbc8c",
        "colab": {
          "base_uri": "https://localhost:8080/"
        }
      },
      "source": [
        "rf_all_features = cv_score(RandomForestClassifier(n_estimators=100, max_depth=8))"
      ],
      "execution_count": 300,
      "outputs": [
        {
          "output_type": "stream",
          "text": [
            "\n",
            "1 of kfold 5\n",
            "ROC AUC Score: 0.8200031856952008, Recall Score: 0.3574, Precision Score: 0.7287 \n",
            "\n",
            "2 of kfold 5\n",
            "ROC AUC Score: 0.8457706299455349, Recall Score: 0.3631, Precision Score: 0.7655 \n",
            "\n",
            "3 of kfold 5\n",
            "ROC AUC Score: 0.8368577482994988, Recall Score: 0.3546, Precision Score: 0.7475 \n",
            "\n",
            "4 of kfold 5\n",
            "ROC AUC Score: 0.829430800781507, Recall Score: 0.3774, Precision Score: 0.7533 \n",
            "\n",
            "5 of kfold 5\n",
            "ROC AUC Score: 0.8236846195087295, Recall Score: 0.3508, Precision Score: 0.7351 \n"
          ],
          "name": "stdout"
        }
      ]
    },
    {
      "cell_type": "markdown",
      "metadata": {
        "id": "gw2cRpaGAHjO"
      },
      "source": [
        "## Comparison of Different model fold wise\n",
        "\n",
        "Let us visualise the cross validation scores for each fold for the following 3 models and observe differences:\n",
        "* Baseline Model\n",
        "* Model based on all features\n",
        "* Model based on top 10 features obtained from RFE"
      ]
    },
    {
      "cell_type": "code",
      "metadata": {
        "id": "JuTWV0jVAHjP"
      },
      "source": [
        "results_df = pd.DataFrame({'baseline':baseline_scores, 'all_feats': all_feat_scores, 'random_forest': rf_all_features})"
      ],
      "execution_count": 301,
      "outputs": []
    },
    {
      "cell_type": "code",
      "metadata": {
        "id": "3sxHhG3pAHjR",
        "outputId": "a0bcc55b-303f-494a-8e02-625a30344e6d",
        "colab": {
          "base_uri": "https://localhost:8080/",
          "height": 279
        }
      },
      "source": [
        "results_df.plot(y=[\"baseline\", \"all_feats\", \"random_forest\"], kind=\"bar\")"
      ],
      "execution_count": 311,
      "outputs": [
        {
          "output_type": "execute_result",
          "data": {
            "text/plain": [
              "<matplotlib.axes._subplots.AxesSubplot at 0x7ff55c98b630>"
            ]
          },
          "metadata": {
            "tags": []
          },
          "execution_count": 311
        },
        {
          "output_type": "display_data",
          "data": {
            "image/png": "[encoded data removed]",
            "text/plain": [
              "<Figure size 432x288 with 1 Axes>"
            ]
          },
          "metadata": {
            "tags": [],
            "needs_background": "light"
          }
        }
      ]
    }
  ]
}
